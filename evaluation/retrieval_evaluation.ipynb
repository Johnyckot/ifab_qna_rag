{
 "cells": [
  {
   "cell_type": "code",
   "execution_count": 1,
   "id": "69062f98-1b57-45ac-91ce-426ef47a93e0",
   "metadata": {},
   "outputs": [],
   "source": [
    "from elasticsearch import Elasticsearch"
   ]
  },
  {
   "cell_type": "code",
   "execution_count": 2,
   "id": "783b91ed-615a-4361-8f8b-69cd844643f8",
   "metadata": {},
   "outputs": [],
   "source": [
    "es = Elasticsearch(\"http://localhost:9200\")"
   ]
  },
  {
   "cell_type": "code",
   "execution_count": 64,
   "id": "66d70913-7b4f-4992-a8d0-928a67ddd60c",
   "metadata": {},
   "outputs": [
    {
     "name": "stderr",
     "output_type": "stream",
     "text": [
      "/tmp/ipykernel_8261/2977911075.py:15: DeprecationWarning: Received 'source' via a specific parameter in the presence of a 'body' parameter, which is deprecated and will be removed in a future version. Instead, use only 'body' or only specific parameters.\n",
      "  response = es.search(index=index_name, body=query, source=fields)\n"
     ]
    }
   ],
   "source": [
    "query = {\n",
    "    \"size\": 1000,\n",
    "    \"query\": {\n",
    "        \"match_all\": {}\n",
    "    }\n",
    "}\n",
    "\n",
    "index_name = \"idx_ifab_docs\"\n",
    "\n",
    "fields=[\"id\",\"h1\", \"h2\", \"h3\", \"text\" , \"url\"]\n",
    "\n",
    "response = es.search(index=index_name, body=query, source=fields)"
   ]
  },
  {
   "cell_type": "code",
   "execution_count": 65,
   "id": "dad604a3-78f0-44a6-ab45-6b63d031c7b8",
   "metadata": {},
   "outputs": [],
   "source": [
    "context_docs = []\n",
    "\n",
    "for r in response[\"hits\"][\"hits\"]:\n",
    "    headers = [ h.replace('\\n',' ') for h in [ r['_source']['h1'], r['_source']['h2'], r['_source']['h3'] ]  ]\n",
    "    topic_name = '. '.join(headers)\n",
    "    context_docs.append(\n",
    "        {\n",
    "         'id':r['_source']['id'],\n",
    "         'topic_name':topic_name,\n",
    "         'url':r['_source']['url'],\n",
    "         'topic_text':{r['_source']['text']}         \n",
    "        }\n",
    "    )    "
   ]
  },
  {
   "cell_type": "code",
   "execution_count": 47,
   "id": "47b6bed4-17cf-4d20-ad58-3c7483e93300",
   "metadata": {},
   "outputs": [
    {
     "name": "stdout",
     "output_type": "stream",
     "text": [
      "[{'id': '3be61ccf4553d4b8120dc4b8810de722', 'topic_name': 'ABOUT THE LAWS. Philosophy and Spirit. ', 'url': 'https://www.theifab.com/laws/latest/about-the-laws/', 'topic_text': {'Football is the greatest sport on earth. It is played on every continent, in every country and at many different levels. The fact that the Laws of the Game are the same for all football throughout the world, from the FIFA World Cup™ through to a game between young children in a remote village, is a considerable strength which must continue to be harnessed for the good of football everywhere.\\nFootball must have Laws which keep the game fair – this is a crucial foundation of the ‘beautiful game’ and a vital feature of the ‘spirit’ of the game. The best matches are those where the referee is rarely needed because the players play with respect for each other, the match officials and the Laws.\\nFootball’s Laws are relatively simple compared to most other team sports, but as many situations are subjective and match officials are human, some decisions will inevitably be wrong or cause debate and discussion. For some people, this discussion is part of the game’s enjoyment and attraction but, whether decisions are right or wrong, the ‘spirit’ of the game requires that referees’ decisions must always be respected. All those in authority, especially coaches and team captains, have a clear responsibility to the game to respect the match officials and their decisions.\\nPoor participant behaviour is an area of great concern, and it is essential that everyone involved in the game be treated with respect. The IFAB has approved the following trials with the aim of improving participant behaviour, which are available to competitions that do not involve teams from the top two domestic levels or senior ‘A’ international teams:\\n\\nThere are also trials:\\n\\nThe Laws cannot deal with every possible situation, so where there is no direct provision in the Laws, The IFAB expects the referee to make a decision within the ‘spirit’ of the game and the Laws – this often involves asking the question, ‘what would football want/expect?’\\n'}}, {'id': '08bd43053b2ff3fb697564eaec47e1d6', 'topic_name': 'ABOUT THE LAWS. Philosophy and Spirit. WHAT WOULD FOOTBALL WANT?', 'url': 'https://www.theifab.com/laws/latest/about-the-laws/', 'topic_text': {'The Laws must also contribute to the safety and welfare of players and it is The IFAB’s responsibility to react quickly and appropriately to support the game’s participants, through the Laws themselves, when the need arises.\\nFollowing successful trials, the use of ‘additional permanent concussion substitutions’ has now been incorporated as a competition option in the Laws. This will allow teams to prioritise the welfare of a player who has an actual or suspected concussion without suffering a numerical disadvantage.\\nAccidents inevitably occur, but the Laws aim to help make the game as safe as possible, balancing player welfare and sporting fairness. This requires referees to use the Laws to deal strongly with those players whose actions are too aggressive or dangerous. The Laws embody the unacceptability of unsafe play in their disciplinary phrases, such as ‘reckless challenge’ and ‘endangering the safety of an opponent’ or ‘using excessive force’.\\nTo promote a greater understanding of the Laws, The IFAB has published ‘Football Rules – simplified Laws of the Game’, which have been written to make the Laws easier to understand, especially for young people, potential or newly qualified referees, adults who referee occasionally, players, coaches (including those working towards a coaching qualification), spectators and the media.\\nVisit www.footballrules.com to access or download Football Rules, which can be sorted alphabetically or by category.\\nThe IFAB has also produced an audio version of the Laws of the Game, which can be accessed on our website.\\n'}}, {'id': '7c8546d61c009e28689ceb9b234800cf', 'topic_name': 'Law 5 The Referee. 5.3  Powers and duties. Outside interference', 'url': 'https://www.theifab.com/laws/latest/the-referee/', 'topic_text': {'stops, suspends or abandons the match for any offences or because of outside interference e.g. if:\\nthe floodlights are inadequate\\nan object thrown by a spectator hits a match official, a player or team official, the referee may allow the match to continue, or stop, suspend or abandon it depending on the severity of the incident\\na spectator blows a whistle which interferes with play - play is stopped and restarted with a dropped ball\\nan extra ball, other object or animal enters the field of play during the match, the referee must:\\nstop play (and restart with a dropped ball) only if it interferes with play - unless the ball is going into the goal and the interference does not prevent a defending player playing the ball, the goal is awarded if the ball enters the goal (even if contact was made with the ball) unless the interference was by the attacking team\\nallow play to continue if it does not interfere with play and have it removed at the earliest possible opportunity\\nallows no unauthorised persons to enter the field of play\\n'}}, {'id': '15e3390815607d6b2b5f4c3167ec1526', 'topic_name': 'Law 9 The Ball in and  out of Play. . FAQs', 'url': 'https://www.theifab.com/laws/latest/the-ball-in-and-out-of-play/', 'topic_text': {'A player plays the ball which then touches the referee (inside the penalty area), remains on the field of play and goes directly into the goal. What is the referee’s decision?\\nThe goal is disallowed and play restarts with a dropped ball for the defending team goalkeeper in their penalty area.\\n'}}, {'id': 'b0f83da925f2b1f734cdfb9a95a0ee47', 'topic_name': 'NOTES AND MODIFICATIONS. Additional permanent concussion substitutions protocol. ', 'url': 'https://www.theifab.com/laws/latest/additional-permanent-concussion-substitutions-protocol/', 'topic_text': {'Updated as from 1st July 2024\\nIntroduction\\nFollowing approval at the 138th Annual General Meeting (AGM) of The IFAB held in Scotland on 2nd March 2024, the Laws of the Game now allow competitions to permit the use of additional permanent concussion substitutions.\\nAn additional permanent concussion substitution occurs when a player who has an actual or suspected concussion is substituted and takes no further part in the match. This substitution does not count as one of the ‘normal’ permitted substitutions (or substitution opportunities, where applicable).\\nReference to additional permanent concussion substitutions is found in:\\n'}}]\n"
     ]
    }
   ],
   "source": [
    "print(context_docs)"
   ]
  },
  {
   "cell_type": "code",
   "execution_count": 66,
   "id": "e8816c8d-cf85-490b-b0e6-a11de00265fa",
   "metadata": {},
   "outputs": [],
   "source": [
    "def get_prompt(c):\n",
    "    context_string = f\"\"\"        \n",
    "    Topic: {c['topic_name']}\n",
    "    Topic content:\n",
    "        {c['topic_text']}\n",
    "    \\n\n",
    "    \"\"\"\n",
    "    prompt = f\"\"\"\n",
    "    You are an expert in footbal rules. Prepare 5 questions for students based on provided Topic and it's content.    \n",
    "    \n",
    "    {context_string}    \n",
    "    \n",
    "    Provide the output in parsable JSON without using code blocks:\n",
    "    [\"question1\", \"question2\", ..., \"question5\"] \n",
    "    \"\"\".strip()\n",
    "    \n",
    "    return(prompt)"
   ]
  },
  {
   "cell_type": "code",
   "execution_count": 61,
   "id": "a7ade4c3-16a6-430f-9655-6b11c1788756",
   "metadata": {},
   "outputs": [],
   "source": [
    "from openai import OpenAI\n",
    "client = OpenAI()"
   ]
  },
  {
   "cell_type": "code",
   "execution_count": 68,
   "id": "4281a767-a075-4e90-b076-2b0a2ed0ab61",
   "metadata": {},
   "outputs": [],
   "source": [
    "# Generate 5 questions for each topic using gpt-4o\n",
    "\n",
    "# generated_qusetions = []\n",
    "# for c in context_docs:\n",
    "#     # print(get_prompt(c))\n",
    "#     prompt = get_prompt(c) \n",
    "\n",
    "#     response = client.chat.completions.create(\n",
    "#         model='gpt-4o',\n",
    "#         messages=[{\"role\": \"user\", \"content\": prompt}]\n",
    "#     )\n",
    "\n",
    "#     json_response = response.choices[0].message.content\n",
    "\n",
    "#     c['questions'] = json_responseselecыду\n",
    "    \n",
    "#     generated_qusetions.append(c)  \n",
    "\n",
    "      \n",
    "  "
   ]
  },
  {
   "cell_type": "code",
   "execution_count": 4,
   "id": "20e13d96-a50e-4434-9587-2ecac964685c",
   "metadata": {},
   "outputs": [],
   "source": [
    "import pandas as pd"
   ]
  },
  {
   "cell_type": "code",
   "execution_count": 3,
   "id": "e85d3360-4c10-46cf-8f47-ea753cad7d40",
   "metadata": {},
   "outputs": [],
   "source": [
    "# save generated questions to parquet \n",
    "\n",
    "\n",
    "# df = pd.DataFrame(generated_qusetions)\n",
    "# df.to_parquet('generated_questions.parquet')"
   ]
  },
  {
   "cell_type": "code",
   "execution_count": 10,
   "id": "bc002f96-b195-4e70-841f-2414f744f8ef",
   "metadata": {},
   "outputs": [],
   "source": [
    "import json "
   ]
  },
  {
   "cell_type": "code",
   "execution_count": 32,
   "id": "434381c2-0dc4-4b34-a076-86f1011d2d47",
   "metadata": {},
   "outputs": [],
   "source": [
    "docs = pd.read_parquet('generated_questions.parquet').to_dict(orient='records')"
   ]
  },
  {
   "cell_type": "code",
   "execution_count": 53,
   "id": "0b95d1ca-2254-4894-843c-a4788c97a085",
   "metadata": {},
   "outputs": [
    {
     "name": "stderr",
     "output_type": "stream",
     "text": [
      "/home/azureuser/.local/lib/python3.12/site-packages/tqdm/auto.py:21: TqdmWarning: IProgress not found. Please update jupyter and ipywidgets. See https://ipywidgets.readthedocs.io/en/stable/user_install.html\n",
      "  from .autonotebook import tqdm as notebook_tqdm\n",
      "/home/azureuser/.local/lib/python3.12/site-packages/transformers/tokenization_utils_base.py:1601: FutureWarning: `clean_up_tokenization_spaces` was not set. It will be set to `True` by default. This behavior will be depracted in transformers v4.45, and will be then set to `False` by default. For more details check this issue: https://github.com/huggingface/transformers/issues/31884\n",
      "  warnings.warn(\n"
     ]
    }
   ],
   "source": [
    "from sentence_transformers import SentenceTransformer\n",
    "model_name = 'all-mpnet-base-v2'\n",
    "model = SentenceTransformer(model_name)"
   ]
  },
  {
   "cell_type": "code",
   "execution_count": 54,
   "id": "57ff6b34-fee9-4ef3-88f7-609c0edbdbda",
   "metadata": {},
   "outputs": [],
   "source": [
    "# generate ground-truth dataset which  contain question and a topic\n",
    "\n",
    "error_lst = []\n",
    "qna_collection = []       \n",
    "    \n",
    "for d in docs:    \n",
    "    q_str = d['questions'].replace('\\n','')    \n",
    "    try:\n",
    "        questions = json.loads(q_str)        \n",
    "        for q in questions:\n",
    "            embedding = model.encode(q)\n",
    "            qna_collection.append({\n",
    "             'doc_id':d['id'],\n",
    "             'topic_name':d['topic_name'],\n",
    "             'url':d['url'],\n",
    "             'topic_text':d['topic_text'],\n",
    "             'question':q,\n",
    "             'embdding':embedding\n",
    "            })\n",
    "    except:\n",
    "        error_lst.append(t)\n",
    "    \n",
    "\n",
    "    \n",
    "    "
   ]
  },
  {
   "cell_type": "code",
   "execution_count": 57,
   "id": "34ba3e0d-4d1a-43bc-af3f-6c7acf629f38",
   "metadata": {},
   "outputs": [],
   "source": [
    "df = pd.DataFrame(qna_collection)\n",
    "df.to_parquet('generated_questions_embedded.parquet')"
   ]
  },
  {
   "cell_type": "code",
   "execution_count": 5,
   "id": "44ac8e9c-4968-4f29-a7e2-32509721528c",
   "metadata": {},
   "outputs": [],
   "source": [
    "ground_truth_docs = pd.read_parquet('generated_questions_embedded.parquet').to_dict(orient='records')"
   ]
  },
  {
   "cell_type": "code",
   "execution_count": 6,
   "id": "20d14b37-bff6-4bae-b622-fa76290f550a",
   "metadata": {},
   "outputs": [],
   "source": [
    "def hit_rate(relevance_total):\n",
    "    cnt = 0\n",
    "\n",
    "    for line in relevance_total:\n",
    "        if True in line:\n",
    "            cnt = cnt + 1\n",
    "\n",
    "    return cnt / len(relevance_total)\n",
    "\n",
    "def mrr(relevance_total):\n",
    "    total_score = 0.0\n",
    "\n",
    "    for line in relevance_total:\n",
    "        for rank in range(len(line)):\n",
    "            if line[rank] == True:\n",
    "                total_score = total_score + 1 / (rank + 1)\n",
    "\n",
    "    return total_score / len(relevance_total)"
   ]
  },
  {
   "cell_type": "code",
   "execution_count": 7,
   "id": "fafe5b1c-a50b-4634-9af7-5f12a2611bc1",
   "metadata": {},
   "outputs": [],
   "source": [
    "#  calculate matrix results for vector search\n",
    "\n",
    "relevance_total_vector =[]\n",
    "\n",
    "for gr in ground_truth_docs:\n",
    "    q = gr['question']\n",
    "    vector = gr['embdding']\n",
    "    id_correct = gr['doc_id']\n",
    "    # print(id_correct,q)\n",
    "    \n",
    "    index_name = \"idx_ifab_docs\"\n",
    "    \n",
    "    query = {\n",
    "        \"field\": \"embedding\",\n",
    "        \"query_vector\": vector,\n",
    "        \"k\": 5,\n",
    "        \"num_candidates\": 10000, \n",
    "    }\n",
    "    \n",
    "    res = es.search(index=index_name, knn=query, source=[\"id\", \"text\"])\n",
    "    \n",
    "    relevance = []\n",
    "    \n",
    "    for r in res[\"hits\"][\"hits\"]:    \n",
    "        relevance.append(r['_source']['id'] == id_correct)\n",
    "    \n",
    "    relevance_total_vector.append(relevance)\n",
    "    "
   ]
  },
  {
   "cell_type": "code",
   "execution_count": 8,
   "id": "b2ad2429-1189-4964-9e1a-3a1da32a2cdf",
   "metadata": {},
   "outputs": [],
   "source": [
    "\n",
    "#  calculate matrix results for text search\n",
    "relevance_total_text =[]\n",
    "\n",
    "for gr in ground_truth_docs:\n",
    "    q = gr['question']\n",
    "    vector = gr['embdding']\n",
    "    id_correct = gr['doc_id']\n",
    "    # print(id_correct,q)\n",
    "    \n",
    "    index_name = \"idx_ifab_docs\"\n",
    "    \n",
    "    # query = {\n",
    "    #     \"field\": \"embedding\",\n",
    "    #     \"query_vector\": vector,\n",
    "    #     \"k\": 5,\n",
    "    #     \"num_candidates\": 10000, \n",
    "    # }\n",
    "\n",
    "    search_query = {\n",
    "        \"size\": 5,\n",
    "        \"query\": {\n",
    "            \"bool\": {\n",
    "                \"must\": {\n",
    "                    \"multi_match\": {\n",
    "                        \"query\": q,                        \n",
    "                        \"fields\": [\"text\"],\n",
    "                        \"type\": \"best_fields\"\n",
    "                    }\n",
    "                }                \n",
    "            }\n",
    "        }\n",
    "    }\n",
    "\n",
    "\n",
    "\n",
    "    response = es.search(index=index_name, body=search_query)\n",
    "    \n",
    "    # res = es.search(index=index_name, knn=query, source=[\"id\", \"text\"])\n",
    "    \n",
    "    relevance = []\n",
    "    \n",
    "    for r in res[\"hits\"][\"hits\"]:    \n",
    "        relevance.append(r['_source']['id'] == id_correct)\n",
    "    \n",
    "    relevance_total_text.append(relevance)\n",
    "    "
   ]
  },
  {
   "cell_type": "code",
   "execution_count": 9,
   "id": "011cb3dc-7516-474f-9ec5-7a9159aa2ba9",
   "metadata": {},
   "outputs": [
    {
     "name": "stdout",
     "output_type": "stream",
     "text": [
      "Vector-search hit-rate:0.810394060536836\n",
      "Vector-search MRR:0.653131543879688\n"
     ]
    }
   ],
   "source": [
    "print(f'Vector-search hit-rate:{hit_rate(relevance_total_vector)}')\n",
    "print(f'Vector-search MRR:{mrr(relevance_total_vector)}')"
   ]
  },
  {
   "cell_type": "code",
   "execution_count": 10,
   "id": "12b81adc-d524-49df-ac4e-89c838689d33",
   "metadata": {},
   "outputs": [
    {
     "name": "stdout",
     "output_type": "stream",
     "text": [
      "Text-search hit-rate:0.014277555682467162\n",
      "Text-search MRR:0.0065200837616600045\n"
     ]
    }
   ],
   "source": [
    "print(f'Text-search hit-rate:{hit_rate(relevance_total_text)}')\n",
    "print(f'Text-search MRR:{mrr(relevance_total_text)}')"
   ]
  }
 ],
 "metadata": {
  "kernelspec": {
   "display_name": "Python 3 (ipykernel)",
   "language": "python",
   "name": "python3"
  },
  "language_info": {
   "codemirror_mode": {
    "name": "ipython",
    "version": 3
   },
   "file_extension": ".py",
   "mimetype": "text/x-python",
   "name": "python",
   "nbconvert_exporter": "python",
   "pygments_lexer": "ipython3",
   "version": "3.12.3"
  }
 },
 "nbformat": 4,
 "nbformat_minor": 5
}
