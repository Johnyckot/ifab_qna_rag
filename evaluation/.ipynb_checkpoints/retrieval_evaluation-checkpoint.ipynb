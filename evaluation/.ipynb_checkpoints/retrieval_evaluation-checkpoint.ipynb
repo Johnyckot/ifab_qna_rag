{
 "cells": [
  {
   "cell_type": "code",
   "execution_count": 1,
   "id": "69062f98-1b57-45ac-91ce-426ef47a93e0",
   "metadata": {},
   "outputs": [],
   "source": [
    "from elasticsearch import Elasticsearch"
   ]
  },
  {
   "cell_type": "code",
   "execution_count": 2,
   "id": "783b91ed-615a-4361-8f8b-69cd844643f8",
   "metadata": {},
   "outputs": [],
   "source": [
    "es = Elasticsearch(\"http://localhost:9200\")"
   ]
  },
  {
   "cell_type": "code",
   "execution_count": 64,
   "id": "66d70913-7b4f-4992-a8d0-928a67ddd60c",
   "metadata": {},
   "outputs": [
    {
     "name": "stderr",
     "output_type": "stream",
     "text": [
      "/tmp/ipykernel_8261/2977911075.py:15: DeprecationWarning: Received 'source' via a specific parameter in the presence of a 'body' parameter, which is deprecated and will be removed in a future version. Instead, use only 'body' or only specific parameters.\n",
      "  response = es.search(index=index_name, body=query, source=fields)\n"
     ]
    }
   ],
   "source": [
    "query = {\n",
    "    \"size\": 1000,\n",
    "    \"query\": {\n",
    "        \"match_all\": {}\n",
    "    }\n",
    "}\n",
    "\n",
    "index_name = \"idx_ifab_docs\"\n",
    "\n",
    "fields=[\"id\",\"h1\", \"h2\", \"h3\", \"text\" , \"url\"]\n",
    "\n",
    "response = es.search(index=index_name, body=query, source=fields)"
   ]
  },
  {
   "cell_type": "code",
   "execution_count": 65,
   "id": "dad604a3-78f0-44a6-ab45-6b63d031c7b8",
   "metadata": {},
   "outputs": [],
   "source": [
    "context_docs = []\n",
    "\n",
    "for r in response[\"hits\"][\"hits\"]:\n",
    "    headers = [ h.replace('\\n',' ') for h in [ r['_source']['h1'], r['_source']['h2'], r['_source']['h3'] ]  ]\n",
    "    topic_name = '. '.join(headers)\n",
    "    context_docs.append(\n",
    "        {\n",
    "         'id':r['_source']['id'],\n",
    "         'topic_name':topic_name,\n",
    "         'url':r['_source']['url'],\n",
    "         'topic_text':{r['_source']['text']}         \n",
    "        }\n",
    "    )    "
   ]
  },
  {
   "cell_type": "code",
   "execution_count": 47,
   "id": "47b6bed4-17cf-4d20-ad58-3c7483e93300",
   "metadata": {},
   "outputs": [
    {
     "name": "stdout",
     "output_type": "stream",
     "text": [
      "[{'id': '3be61ccf4553d4b8120dc4b8810de722', 'topic_name': 'ABOUT THE LAWS. Philosophy and Spirit. ', 'url': 'https://www.theifab.com/laws/latest/about-the-laws/', 'topic_text': {'Football is the greatest sport on earth. It is played on every continent, in every country and at many different levels. The fact that the Laws of the Game are the same for all football throughout the world, from the FIFA World Cup™ through to a game between young children in a remote village, is a considerable strength which must continue to be harnessed for the good of football everywhere.\\nFootball must have Laws which keep the game fair – this is a crucial foundation of the ‘beautiful game’ and a vital feature of the ‘spirit’ of the game. The best matches are those where the referee is rarely needed because the players play with respect for each other, the match officials and the Laws.\\nFootball’s Laws are relatively simple compared to most other team sports, but as many situations are subjective and match officials are human, some decisions will inevitably be wrong or cause debate and discussion. For some people, this discussion is part of the game’s enjoyment and attraction but, whether decisions are right or wrong, the ‘spirit’ of the game requires that referees’ decisions must always be respected. All those in authority, especially coaches and team captains, have a clear responsibility to the game to respect the match officials and their decisions.\\nPoor participant behaviour is an area of great concern, and it is essential that everyone involved in the game be treated with respect. The IFAB has approved the following trials with the aim of improving participant behaviour, which are available to competitions that do not involve teams from the top two domestic levels or senior ‘A’ international teams:\\n\\nThere are also trials:\\n\\nThe Laws cannot deal with every possible situation, so where there is no direct provision in the Laws, The IFAB expects the referee to make a decision within the ‘spirit’ of the game and the Laws – this often involves asking the question, ‘what would football want/expect?’\\n'}}, {'id': '08bd43053b2ff3fb697564eaec47e1d6', 'topic_name': 'ABOUT THE LAWS. Philosophy and Spirit. WHAT WOULD FOOTBALL WANT?', 'url': 'https://www.theifab.com/laws/latest/about-the-laws/', 'topic_text': {'The Laws must also contribute to the safety and welfare of players and it is The IFAB’s responsibility to react quickly and appropriately to support the game’s participants, through the Laws themselves, when the need arises.\\nFollowing successful trials, the use of ‘additional permanent concussion substitutions’ has now been incorporated as a competition option in the Laws. This will allow teams to prioritise the welfare of a player who has an actual or suspected concussion without suffering a numerical disadvantage.\\nAccidents inevitably occur, but the Laws aim to help make the game as safe as possible, balancing player welfare and sporting fairness. This requires referees to use the Laws to deal strongly with those players whose actions are too aggressive or dangerous. The Laws embody the unacceptability of unsafe play in their disciplinary phrases, such as ‘reckless challenge’ and ‘endangering the safety of an opponent’ or ‘using excessive force’.\\nTo promote a greater understanding of the Laws, The IFAB has published ‘Football Rules – simplified Laws of the Game’, which have been written to make the Laws easier to understand, especially for young people, potential or newly qualified referees, adults who referee occasionally, players, coaches (including those working towards a coaching qualification), spectators and the media.\\nVisit www.footballrules.com to access or download Football Rules, which can be sorted alphabetically or by category.\\nThe IFAB has also produced an audio version of the Laws of the Game, which can be accessed on our website.\\n'}}, {'id': '7c8546d61c009e28689ceb9b234800cf', 'topic_name': 'Law 5 The Referee. 5.3  Powers and duties. Outside interference', 'url': 'https://www.theifab.com/laws/latest/the-referee/', 'topic_text': {'stops, suspends or abandons the match for any offences or because of outside interference e.g. if:\\nthe floodlights are inadequate\\nan object thrown by a spectator hits a match official, a player or team official, the referee may allow the match to continue, or stop, suspend or abandon it depending on the severity of the incident\\na spectator blows a whistle which interferes with play - play is stopped and restarted with a dropped ball\\nan extra ball, other object or animal enters the field of play during the match, the referee must:\\nstop play (and restart with a dropped ball) only if it interferes with play - unless the ball is going into the goal and the interference does not prevent a defending player playing the ball, the goal is awarded if the ball enters the goal (even if contact was made with the ball) unless the interference was by the attacking team\\nallow play to continue if it does not interfere with play and have it removed at the earliest possible opportunity\\nallows no unauthorised persons to enter the field of play\\n'}}, {'id': '15e3390815607d6b2b5f4c3167ec1526', 'topic_name': 'Law 9 The Ball in and  out of Play. . FAQs', 'url': 'https://www.theifab.com/laws/latest/the-ball-in-and-out-of-play/', 'topic_text': {'A player plays the ball which then touches the referee (inside the penalty area), remains on the field of play and goes directly into the goal. What is the referee’s decision?\\nThe goal is disallowed and play restarts with a dropped ball for the defending team goalkeeper in their penalty area.\\n'}}, {'id': 'b0f83da925f2b1f734cdfb9a95a0ee47', 'topic_name': 'NOTES AND MODIFICATIONS. Additional permanent concussion substitutions protocol. ', 'url': 'https://www.theifab.com/laws/latest/additional-permanent-concussion-substitutions-protocol/', 'topic_text': {'Updated as from 1st July 2024\\nIntroduction\\nFollowing approval at the 138th Annual General Meeting (AGM) of The IFAB held in Scotland on 2nd March 2024, the Laws of the Game now allow competitions to permit the use of additional permanent concussion substitutions.\\nAn additional permanent concussion substitution occurs when a player who has an actual or suspected concussion is substituted and takes no further part in the match. This substitution does not count as one of the ‘normal’ permitted substitutions (or substitution opportunities, where applicable).\\nReference to additional permanent concussion substitutions is found in:\\n'}}]\n"
     ]
    }
   ],
   "source": [
    "print(context_docs)"
   ]
  },
  {
   "cell_type": "code",
   "execution_count": 66,
   "id": "e8816c8d-cf85-490b-b0e6-a11de00265fa",
   "metadata": {},
   "outputs": [],
   "source": [
    "def get_prompt(c):\n",
    "    context_string = f\"\"\"        \n",
    "    Topic: {c['topic_name']}\n",
    "    Topic content:\n",
    "        {c['topic_text']}\n",
    "    \\n\n",
    "    \"\"\"\n",
    "    prompt = f\"\"\"\n",
    "    You are an expert in footbal rules. Prepare 5 questions for students based on provided Topic and it's content.    \n",
    "    \n",
    "    {context_string}    \n",
    "    \n",
    "    Provide the output in parsable JSON without using code blocks:\n",
    "    [\"question1\", \"question2\", ..., \"question5\"] \n",
    "    \"\"\".strip()\n",
    "    \n",
    "    return(prompt)"
   ]
  },
  {
   "cell_type": "code",
   "execution_count": 61,
   "id": "a7ade4c3-16a6-430f-9655-6b11c1788756",
   "metadata": {},
   "outputs": [],
   "source": [
    "from openai import OpenAI\n",
    "client = OpenAI()"
   ]
  },
  {
   "cell_type": "code",
   "execution_count": 68,
   "id": "4281a767-a075-4e90-b076-2b0a2ed0ab61",
   "metadata": {},
   "outputs": [],
   "source": [
    "# Generate 5 questions for each topic using gpt-4o\n",
    "\n",
    "# generated_qusetions = []\n",
    "# for c in context_docs:\n",
    "#     # print(get_prompt(c))\n",
    "#     prompt = get_prompt(c) \n",
    "\n",
    "#     response = client.chat.completions.create(\n",
    "#         model='gpt-4o',\n",
    "#         messages=[{\"role\": \"user\", \"content\": prompt}]\n",
    "#     )\n",
    "\n",
    "#     json_response = response.choices[0].message.content\n",
    "\n",
    "#     c['questions'] = json_responseselecыду\n",
    "    \n",
    "#     generated_qusetions.append(c)  \n",
    "\n",
    "      \n",
    "  "
   ]
  },
  {
   "cell_type": "code",
   "execution_count": 3,
   "id": "e85d3360-4c10-46cf-8f47-ea753cad7d40",
   "metadata": {},
   "outputs": [],
   "source": [
    "# save generated questions to parquet \n",
    "\n",
    "# import pandas as pd\n",
    "# df = pd.DataFrame(generated_qusetions)\n",
    "# df.to_parquet('generated_questions.parquet')"
   ]
  },
  {
   "cell_type": "code",
   "execution_count": 10,
   "id": "bc002f96-b195-4e70-841f-2414f744f8ef",
   "metadata": {},
   "outputs": [],
   "source": [
    "import json "
   ]
  },
  {
   "cell_type": "code",
   "execution_count": 32,
   "id": "434381c2-0dc4-4b34-a076-86f1011d2d47",
   "metadata": {},
   "outputs": [],
   "source": [
    "docs = pd.read_parquet('generated_questions.parquet').to_dict(orient='records')"
   ]
  },
  {
   "cell_type": "code",
   "execution_count": 53,
   "id": "0b95d1ca-2254-4894-843c-a4788c97a085",
   "metadata": {},
   "outputs": [
    {
     "name": "stderr",
     "output_type": "stream",
     "text": [
      "/home/azureuser/.local/lib/python3.12/site-packages/tqdm/auto.py:21: TqdmWarning: IProgress not found. Please update jupyter and ipywidgets. See https://ipywidgets.readthedocs.io/en/stable/user_install.html\n",
      "  from .autonotebook import tqdm as notebook_tqdm\n",
      "/home/azureuser/.local/lib/python3.12/site-packages/transformers/tokenization_utils_base.py:1601: FutureWarning: `clean_up_tokenization_spaces` was not set. It will be set to `True` by default. This behavior will be depracted in transformers v4.45, and will be then set to `False` by default. For more details check this issue: https://github.com/huggingface/transformers/issues/31884\n",
      "  warnings.warn(\n"
     ]
    }
   ],
   "source": [
    "from sentence_transformers import SentenceTransformer\n",
    "model_name = 'all-mpnet-base-v2'\n",
    "model = SentenceTransformer(model_name)"
   ]
  },
  {
   "cell_type": "code",
   "execution_count": 54,
   "id": "57ff6b34-fee9-4ef3-88f7-609c0edbdbda",
   "metadata": {},
   "outputs": [],
   "source": [
    "# generate ground-truth dataset which  contain question and a topic\n",
    "\n",
    "error_lst = []\n",
    "qna_collection = []       \n",
    "    \n",
    "for d in docs:    \n",
    "    q_str = d['questions'].replace('\\n','')    \n",
    "    try:\n",
    "        questions = json.loads(q_str)        \n",
    "        for q in questions:\n",
    "            embedding = model.encode(q)\n",
    "            qna_collection.append({\n",
    "             'doc_id':d['id'],\n",
    "             'topic_name':d['topic_name'],\n",
    "             'url':d['url'],\n",
    "             'topic_text':d['topic_text'],\n",
    "             'question':q,\n",
    "             'embdding':embedding\n",
    "            })\n",
    "    except:\n",
    "        error_lst.append(t)\n",
    "    \n",
    "\n",
    "    \n",
    "    "
   ]
  },
  {
   "cell_type": "code",
   "execution_count": 55,
   "id": "bd84aaec-36ec-486a-bab3-540c438d6a8d",
   "metadata": {},
   "outputs": [
    {
     "name": "stdout",
     "output_type": "stream",
     "text": [
      "1751\n"
     ]
    }
   ],
   "source": [
    "print(len(qna_collection))"
   ]
  },
  {
   "cell_type": "code",
   "execution_count": 56,
   "id": "79685dac-1fd6-4e9a-b1a5-813e8ba1a94a",
   "metadata": {},
   "outputs": [
    {
     "name": "stdout",
     "output_type": "stream",
     "text": [
      "{'doc_id': '3be61ccf4553d4b8120dc4b8810de722', 'topic_name': 'ABOUT THE LAWS. Philosophy and Spirit. ', 'url': 'https://www.theifab.com/laws/latest/about-the-laws/', 'topic_text': array(['Football is the greatest sport on earth. It is played on every continent, in every country and at many different levels. The fact that the Laws of the Game are the same for all football throughout the world, from the FIFA World Cup™ through to a game between young children in a remote village, is a considerable strength which must continue to be harnessed for the good of football everywhere.\\nFootball must have Laws which keep the game fair – this is a crucial foundation of the ‘beautiful game’ and a vital feature of the ‘spirit’ of the game. The best matches are those where the referee is rarely needed because the players play with respect for each other, the match officials and the Laws.\\nFootball’s Laws are relatively simple compared to most other team sports, but as many situations are subjective and match officials are human, some decisions will inevitably be wrong or cause debate and discussion. For some people, this discussion is part of the game’s enjoyment and attraction but, whether decisions are right or wrong, the ‘spirit’ of the game requires that referees’ decisions must always be respected. All those in authority, especially coaches and team captains, have a clear responsibility to the game to respect the match officials and their decisions.\\nPoor participant behaviour is an area of great concern, and it is essential that everyone involved in the game be treated with respect. The IFAB has approved the following trials with the aim of improving participant behaviour, which are available to competitions that do not involve teams from the top two domestic levels or senior ‘A’ international teams:\\n\\nThere are also trials:\\n\\nThe Laws cannot deal with every possible situation, so where there is no direct provision in the Laws, The IFAB expects the referee to make a decision within the ‘spirit’ of the game and the Laws – this often involves asking the question, ‘what would football want/expect?’\\n'],\n",
      "      dtype=object), 'question': 'What is considered a strength of the Laws of the Game in football, and why must this be harnessed for the good of football everywhere?', 'embdding': array([ 5.51002510e-02, -1.47006297e-02, -1.34726744e-02, -4.32321317e-02,\n",
      "       -1.49644744e-02, -8.00242089e-03, -5.58526814e-02,  5.13939187e-02,\n",
      "        8.66137911e-03,  2.28016004e-02,  6.12178817e-02, -2.31748838e-02,\n",
      "        6.39462145e-03, -4.65523936e-02,  5.04801795e-02, -1.82796307e-02,\n",
      "       -7.59088844e-02, -4.00164835e-02, -5.46410773e-03, -4.27121157e-03,\n",
      "        3.43754180e-02, -2.60768123e-02, -1.21686971e-02, -3.63390706e-02,\n",
      "       -8.14404432e-03,  6.51769862e-02,  3.55017781e-02, -4.30731997e-02,\n",
      "       -5.25555313e-02,  7.59502174e-03, -2.11334061e-02, -2.12884787e-02,\n",
      "       -2.35543344e-02, -4.91411984e-02,  1.31654701e-06, -5.01967520e-02,\n",
      "        2.25512497e-02, -5.22848070e-02,  3.74170206e-02,  3.41774225e-02,\n",
      "        2.89293453e-02, -5.12538552e-02,  9.12790745e-03,  2.14205123e-03,\n",
      "        1.68313374e-04,  5.57525642e-02, -7.00587127e-03, -2.13583726e-02,\n",
      "       -2.90607121e-02,  7.86914080e-02,  9.07094683e-03,  3.31521453e-03,\n",
      "       -3.29861767e-03, -6.31148145e-02, -3.08400914e-02, -6.92923442e-02,\n",
      "       -1.56589020e-02,  4.23261933e-02, -1.14052743e-02,  2.34172661e-02,\n",
      "        3.32511850e-02, -2.45324038e-02,  4.04349193e-02,  1.07167503e-02,\n",
      "       -6.09027222e-02, -3.75352018e-02, -1.39942169e-02,  3.30002457e-02,\n",
      "        1.82987619e-02, -4.95817326e-03, -7.82488957e-02, -3.33565958e-02,\n",
      "        5.96495904e-03, -1.92455370e-02,  4.35809046e-02, -4.56529390e-03,\n",
      "       -5.38518503e-02, -2.80759437e-03,  4.31402847e-02, -3.95065770e-02,\n",
      "       -9.60182771e-03,  8.68929401e-02,  9.73015931e-03, -4.55116620e-03,\n",
      "       -6.48306170e-03, -1.15662757e-02, -3.88382524e-02, -4.01438810e-02,\n",
      "       -9.83891450e-03,  5.29984646e-02, -2.96269804e-02, -6.85631949e-03,\n",
      "       -8.45731329e-03,  8.17017723e-03,  3.38427424e-02, -4.81889173e-02,\n",
      "        5.68525903e-02, -2.76396610e-03,  7.33715296e-02, -6.69071302e-02,\n",
      "        9.99409240e-03,  2.62553580e-02,  4.02734242e-02, -6.64391089e-03,\n",
      "       -1.18154688e-02, -2.03808341e-02, -3.61144133e-02, -3.89528573e-02,\n",
      "        2.13380866e-02,  2.34934948e-02, -3.67836207e-02, -5.16157178e-03,\n",
      "        3.78755778e-02,  3.73446941e-02, -7.44195953e-02,  1.74181052e-02,\n",
      "        1.83212012e-02,  1.09900227e-02, -2.52843159e-03, -1.58445761e-02,\n",
      "       -2.08711270e-02, -3.27545591e-03,  5.75481355e-02, -7.91971572e-04,\n",
      "        3.90163288e-02,  2.50153672e-02, -1.32312821e-02, -1.04934294e-02,\n",
      "       -3.50022912e-02,  6.87769195e-03, -2.23986693e-02, -5.91969155e-02,\n",
      "       -1.45755308e-02,  3.59043851e-02,  2.69466899e-02,  9.78357624e-03,\n",
      "        5.34397215e-02,  2.32911091e-02, -5.42346910e-02, -1.46100093e-02,\n",
      "        2.46079522e-03, -5.65243959e-02,  4.59522977e-02, -1.69248227e-02,\n",
      "       -4.90404144e-02, -4.29869890e-02,  2.67281979e-02, -2.13226918e-02,\n",
      "        8.12709983e-03,  8.21339432e-03, -2.12943703e-02, -6.45279661e-02,\n",
      "       -1.10056503e-02,  2.08172444e-02, -1.10585270e-02,  8.59838538e-03,\n",
      "       -1.14379255e-02,  6.48332238e-02, -5.73745295e-02, -1.80644430e-02,\n",
      "        2.93814577e-02,  4.90687005e-02,  3.69952386e-03,  8.14877823e-03,\n",
      "       -5.86781744e-03,  5.02231345e-02, -1.64517555e-02, -7.80747877e-03,\n",
      "       -3.84217761e-02, -3.54250632e-02, -5.82389235e-02,  3.98434885e-02,\n",
      "       -1.29060419e-02, -1.24909729e-02, -2.78751068e-02,  8.10587499e-03,\n",
      "        7.57034123e-02, -5.63960187e-02,  6.61704782e-03, -3.45747434e-02,\n",
      "        2.66752820e-02,  5.45548880e-03, -8.44972394e-03,  1.41031668e-02,\n",
      "        6.70215935e-02,  1.72203837e-03, -2.35022511e-02,  6.41475916e-02,\n",
      "       -4.12260275e-03, -1.18041795e-03,  2.58648060e-02,  1.83661040e-02,\n",
      "        1.10885864e-02,  2.85622124e-02,  6.04513427e-03, -4.63243481e-03,\n",
      "        1.02140844e-01,  6.59283833e-04, -5.93365543e-02, -3.20042670e-02,\n",
      "        1.69149891e-03, -1.57108996e-02, -6.21417053e-02, -4.82248552e-02,\n",
      "       -3.91272083e-03,  1.39037762e-02, -1.85416657e-02, -2.13927031e-02,\n",
      "        2.22823583e-02, -4.63999109e-03,  6.63779164e-03,  2.22551897e-02,\n",
      "        6.47490546e-02,  4.80597652e-02,  1.38749294e-02, -3.35345306e-02,\n",
      "        1.14260735e-02,  2.86508985e-02, -4.25330065e-02,  2.04177219e-02,\n",
      "       -1.02030011e-02, -4.88698203e-03, -5.75559326e-02, -1.13371992e-02,\n",
      "        3.82623225e-02, -1.82346348e-02, -1.07775433e-02, -3.03458422e-02,\n",
      "       -6.40947595e-02,  4.81262952e-02, -4.55970168e-02,  3.41682546e-02,\n",
      "        1.11140851e-02, -5.16259149e-02,  1.83304492e-02,  3.12738605e-02,\n",
      "        8.64186231e-03,  6.33717328e-02,  2.81654187e-02, -4.63357754e-02,\n",
      "       -6.47493219e-03, -1.31592518e-02, -2.08055545e-02,  5.60154803e-02,\n",
      "       -3.38041075e-02, -5.53077227e-03,  5.11625521e-02, -9.68358479e-03,\n",
      "       -3.19427252e-02, -3.24271545e-02, -3.36581953e-02,  1.87475383e-02,\n",
      "       -7.05669150e-02, -4.35052998e-03, -9.14929062e-02,  8.86763632e-03,\n",
      "        2.45801825e-02,  4.62554693e-02,  2.94250809e-02,  1.35484049e-02,\n",
      "        4.50001471e-02, -2.97536608e-02, -4.07467522e-02,  8.14754888e-02,\n",
      "        7.53280744e-02, -1.70486309e-02,  2.13659238e-02, -2.66704224e-02,\n",
      "        3.05788629e-02, -3.79928946e-02, -1.40510174e-03, -1.08472230e-02,\n",
      "       -1.30958920e-02, -2.16709394e-02, -8.01642053e-03,  3.32409628e-02,\n",
      "       -8.30208361e-02,  1.92627572e-02, -2.07037460e-02, -2.25526746e-03,\n",
      "        4.11307905e-03, -4.97309789e-02,  3.86157483e-02, -5.95167628e-04,\n",
      "        1.49199078e-02,  9.21367947e-03,  7.03486577e-02,  4.96230498e-02,\n",
      "       -4.06460371e-03, -6.57084025e-03,  4.22295555e-02,  1.01143019e-02,\n",
      "        1.88443754e-02,  4.66408161e-03, -1.45328715e-02,  4.46287915e-02,\n",
      "       -2.03142054e-02, -1.36571443e-02,  1.73270162e-02, -3.98112461e-02,\n",
      "       -1.39611075e-02, -5.94100803e-02,  6.65336624e-02,  1.48975803e-02,\n",
      "       -2.66681369e-02,  3.20582604e-03, -3.50582302e-02,  2.81365905e-02,\n",
      "        1.77772921e-02, -2.79783700e-02, -4.05451730e-02, -3.25059108e-02,\n",
      "       -8.50409362e-03,  5.77038974e-02, -2.99812779e-02, -8.13070033e-03,\n",
      "       -2.35950761e-02, -4.68046293e-02,  2.02088058e-02,  3.60180950e-03,\n",
      "        1.72592252e-02,  7.04602618e-03,  1.45866419e-03, -1.83574911e-02,\n",
      "        3.50524485e-02, -4.86881146e-03, -3.00946850e-02, -3.38831469e-02,\n",
      "        6.00181185e-02,  3.48275080e-02,  2.78837346e-02, -2.26611868e-02,\n",
      "        2.69046775e-03,  5.13375849e-02, -3.98817100e-03,  9.27826762e-02,\n",
      "       -3.75741930e-03, -2.39216350e-02,  9.29219299e-04, -2.61675417e-02,\n",
      "        1.62856840e-02, -5.43903932e-02,  3.97884399e-02, -4.51364601e-03,\n",
      "        5.63180186e-02,  3.50774229e-02, -1.48845315e-02,  2.13269740e-02,\n",
      "        1.37444213e-02, -3.69001031e-02,  5.20714484e-02, -9.85460728e-03,\n",
      "        5.60795795e-03, -3.27987224e-02,  4.32369336e-02,  2.73740403e-02,\n",
      "       -3.86188440e-02, -1.42754810e-02,  8.28433782e-03, -4.55979891e-02,\n",
      "       -4.06228900e-02,  3.17174979e-02, -2.98973601e-02,  3.22150141e-02,\n",
      "        3.14778509e-03,  8.14543441e-02, -3.85886654e-02,  5.58754988e-03,\n",
      "       -4.59777191e-02,  1.63827855e-02,  4.28661481e-02, -1.04416311e-02,\n",
      "        6.29073847e-03,  1.69740077e-02, -2.36985777e-02,  8.11597854e-02,\n",
      "        1.78399887e-02, -5.96491359e-02,  1.36462897e-02,  3.84545489e-03,\n",
      "       -1.72314979e-02, -8.06048326e-03,  4.78313491e-03,  1.01847062e-02,\n",
      "       -2.00194065e-02, -2.40823030e-02,  3.39408293e-02,  2.20826012e-03,\n",
      "        1.36326132e-02, -1.25860935e-02,  1.57317854e-02,  1.94830522e-02,\n",
      "       -1.08382098e-01,  6.16144687e-02, -4.60455790e-02,  1.45691773e-03,\n",
      "        5.67486808e-02, -6.75793085e-03, -4.31321785e-02,  1.66800767e-02,\n",
      "        6.38912842e-02, -1.07826358e-02, -4.32078872e-04, -2.44201068e-02,\n",
      "       -4.15697694e-02,  4.08230163e-02,  4.38639522e-02,  3.68103199e-03,\n",
      "        2.12662164e-02, -8.87352377e-02, -5.95890218e-03,  4.04246747e-02,\n",
      "        7.16705173e-02,  6.28593490e-02,  1.90291088e-02, -2.51738112e-02,\n",
      "        8.24253354e-03, -1.38794780e-02, -1.25565650e-02,  4.38048430e-02,\n",
      "       -4.65744995e-02,  2.24258695e-02,  6.05775565e-02, -1.22757265e-02,\n",
      "       -7.76377926e-03, -4.46143746e-02, -2.23713610e-02,  1.56512801e-02,\n",
      "       -1.78437065e-02, -6.20164617e-04,  1.66901629e-02, -9.30162519e-03,\n",
      "       -3.31254886e-03,  2.06810571e-02, -5.59194908e-02, -4.96474728e-02,\n",
      "       -4.10085507e-02,  4.14202176e-02, -3.83968540e-02,  4.22458053e-02,\n",
      "        5.88000752e-02, -3.36717330e-02,  1.98129974e-02,  4.30227555e-02,\n",
      "        7.92082623e-02, -8.60130638e-02, -4.28158441e-04,  9.43426695e-03,\n",
      "        2.25608703e-02,  1.85017344e-02, -5.41948192e-02,  4.82745618e-02,\n",
      "        1.72717776e-02,  3.98861468e-02,  1.56231094e-02,  4.43977378e-02,\n",
      "       -5.02169877e-02,  1.82807036e-02,  1.18409982e-02, -1.52581222e-02,\n",
      "        7.88128003e-03,  2.60729585e-02, -2.57561868e-03,  4.18269932e-02,\n",
      "       -6.69227028e-03, -3.27385813e-02,  3.89235914e-02, -8.42464715e-03,\n",
      "       -5.66929206e-03,  7.57763088e-02, -2.94164941e-02,  9.85873956e-03,\n",
      "       -1.06116058e-02,  2.58331113e-02,  3.87979187e-02, -3.24481189e-05,\n",
      "       -9.32800490e-03, -1.59276966e-02,  2.54761148e-02, -1.24944728e-02,\n",
      "        2.75039077e-02, -5.05873002e-03, -1.12738041e-03, -2.65766736e-02,\n",
      "        4.40261848e-02,  7.71461753e-03,  2.56595667e-02,  1.53680453e-02,\n",
      "        2.82603558e-02,  5.35078999e-03,  3.26326750e-02,  2.37398036e-02,\n",
      "       -8.07238277e-03,  3.23545896e-02,  1.73268747e-02,  8.17407295e-03,\n",
      "        3.23773827e-03,  8.68909881e-02,  2.96374829e-03, -2.47426908e-02,\n",
      "        4.84723970e-03, -1.55691570e-02,  4.14570719e-02,  4.14574258e-02,\n",
      "       -1.98391210e-02, -1.06390761e-02, -2.95994785e-02,  1.00068981e-02,\n",
      "       -6.80936675e-04, -6.30525500e-02, -5.09023946e-03, -2.74192076e-02,\n",
      "        1.87255498e-02, -5.37329260e-03, -2.28178632e-02, -7.12810783e-04,\n",
      "        3.11160274e-02, -5.69610856e-03, -3.75351682e-02,  1.53894061e-02,\n",
      "       -1.29769780e-02,  4.63637337e-02, -2.08271872e-02, -4.54094075e-02,\n",
      "        5.38701005e-03, -2.03541126e-02,  6.27590530e-03, -3.68916504e-02,\n",
      "        1.46660637e-02, -3.44454572e-02, -4.03009690e-02,  2.03799792e-02,\n",
      "       -3.54191996e-02,  2.60187481e-02,  2.71273404e-02, -6.51715249e-02,\n",
      "        4.07932699e-02,  2.59102024e-02,  1.99255198e-02,  1.83227602e-02,\n",
      "       -9.53317508e-02,  6.85445145e-02,  5.34588937e-03, -2.72456165e-02,\n",
      "        5.04731908e-02,  1.02477511e-02, -2.41155289e-02,  2.25263052e-02,\n",
      "        4.38742749e-02,  2.86832340e-02,  1.54891703e-02, -1.11115975e-02,\n",
      "        2.71982867e-02,  1.27940001e-02,  3.19805406e-02, -4.15794723e-33,\n",
      "        2.73876619e-02, -7.12265633e-03,  3.02417129e-02,  2.54348833e-02,\n",
      "       -9.28574130e-02, -4.40758951e-02, -4.54349220e-02, -2.74666827e-02,\n",
      "       -5.40092997e-02,  1.98788755e-02, -1.63742919e-02, -4.06017154e-02,\n",
      "        1.33698015e-02, -2.00937688e-03,  4.54526097e-02, -7.43585676e-02,\n",
      "        6.38097478e-03,  4.04768661e-02,  2.12518871e-02,  1.74798295e-02,\n",
      "       -1.22067635e-03,  9.91962105e-03, -1.06576663e-02,  4.73608589e-03,\n",
      "       -5.68787986e-03, -6.88289013e-03, -8.01412482e-03, -2.61688065e-02,\n",
      "       -5.55564724e-02,  2.35261638e-02,  3.55326124e-02, -6.98260069e-02,\n",
      "        3.53634171e-02, -1.42608151e-01, -1.85434986e-02,  1.04210407e-01,\n",
      "        9.00717899e-02, -5.56304678e-03, -1.79676823e-02, -3.62486392e-02,\n",
      "       -1.05184447e-02, -3.20600457e-02,  4.51149754e-02, -1.57074444e-02,\n",
      "        4.06502420e-03, -2.78858356e-02, -5.42591661e-02, -1.29521042e-02,\n",
      "        5.07373326e-02, -1.08531862e-01, -3.92542258e-02,  3.28647718e-02,\n",
      "       -1.19130285e-02,  3.30900289e-02,  1.59647577e-02, -3.98481227e-02,\n",
      "       -2.71503739e-02, -1.44710811e-02,  2.75260583e-03, -1.56480186e-02,\n",
      "        1.51215754e-02, -1.68745574e-02, -2.49036271e-02, -9.19919275e-03,\n",
      "        3.13946307e-02,  4.89679649e-02, -3.64322364e-02,  2.80949031e-03,\n",
      "       -2.67994627e-02, -5.69555163e-02, -7.99137726e-03,  2.49017011e-02,\n",
      "        3.75918336e-02,  2.02025939e-02,  3.42140300e-03,  3.53070311e-02,\n",
      "       -6.34753481e-02, -3.92012149e-02,  4.73893359e-02,  2.04365347e-02,\n",
      "       -1.79532934e-02,  3.08225714e-02, -2.69655343e-02,  3.82393003e-02,\n",
      "        2.42873724e-03, -5.06298244e-02,  8.92439857e-03, -2.44881236e-03,\n",
      "       -8.73914361e-03,  3.41888797e-03, -1.66725062e-04, -1.37284109e-02,\n",
      "        3.86285894e-02,  6.81313723e-02,  4.18325476e-02,  7.35269934e-02,\n",
      "       -1.33479862e-02,  4.60353605e-02,  1.16722174e-02, -4.97749597e-02,\n",
      "       -8.75195861e-02, -1.55071840e-02, -5.37773371e-02, -3.48570719e-02,\n",
      "        3.95001494e-04, -1.54050230e-03,  1.98569484e-02,  3.39215957e-02,\n",
      "       -1.91189181e-02, -4.91444394e-02,  9.09820572e-03,  1.10610183e-02,\n",
      "        5.06631024e-02, -7.91238770e-02, -2.16324702e-02,  2.96825618e-02,\n",
      "        1.30998166e-02, -4.66894656e-02, -1.45431384e-02, -4.73610312e-02,\n",
      "        3.49317752e-02,  6.39412403e-02,  3.20722088e-02,  8.09702277e-03,\n",
      "       -3.96924280e-03, -2.94548478e-02,  6.34558275e-02,  5.84185310e-03,\n",
      "       -1.38079971e-02,  2.27668174e-02, -3.02410182e-02,  1.42580206e-02,\n",
      "        2.09645663e-07,  2.88961735e-03,  3.11796175e-04, -1.59778353e-02,\n",
      "       -4.54282612e-02,  1.51501019e-02,  4.62184623e-02, -6.62680641e-02,\n",
      "        5.73979430e-02,  7.33369589e-02,  3.25209610e-02,  3.16396244e-02,\n",
      "        2.18897592e-02, -3.75041515e-02,  2.81177275e-02, -4.95739244e-02,\n",
      "       -4.25545424e-02,  2.58775037e-02, -1.11977935e-01,  6.63927794e-02,\n",
      "       -3.38374116e-02, -4.45728097e-03,  1.18614752e-02,  3.97967063e-02,\n",
      "       -1.69148520e-02, -1.13587389e-02,  1.56319626e-02, -2.63903942e-02,\n",
      "       -5.74785769e-02,  2.92120706e-02,  6.74714474e-03,  4.90222499e-03,\n",
      "        1.91075052e-03, -4.54067960e-02, -6.06001820e-04, -4.03231643e-02,\n",
      "        1.96914859e-02, -4.07114439e-02,  5.68497926e-02,  1.11707929e-03,\n",
      "        6.24977611e-03,  8.81245919e-03, -9.06633586e-02,  4.88576945e-03,\n",
      "        2.36110575e-02,  2.69576386e-02,  4.53305896e-03, -6.32754937e-02,\n",
      "       -2.74798889e-02, -4.55198772e-02,  9.21316631e-03,  1.40583776e-02,\n",
      "        2.59496979e-02, -4.43649292e-02, -3.50266248e-02,  1.39409052e-02,\n",
      "        3.49735580e-02,  3.21455253e-03, -1.56916957e-02,  1.06736887e-02,\n",
      "        6.12208359e-02,  5.82816005e-02,  8.36227264e-04,  1.56989135e-02,\n",
      "        9.19548795e-02, -4.91386726e-02, -5.55672571e-02, -1.11020328e-02,\n",
      "        1.56282755e-34, -8.52615852e-03, -6.80904984e-02,  1.73661411e-02,\n",
      "       -2.04436928e-02, -2.62670871e-02, -2.76161637e-02, -8.98424536e-03,\n",
      "       -2.05383226e-02,  4.59522232e-02,  4.56652008e-02, -2.54354370e-03],\n",
      "      dtype=float32)}\n"
     ]
    }
   ],
   "source": [
    "print(qna_collection[0])"
   ]
  },
  {
   "cell_type": "code",
   "execution_count": 57,
   "id": "34ba3e0d-4d1a-43bc-af3f-6c7acf629f38",
   "metadata": {},
   "outputs": [],
   "source": [
    "df = pd.DataFrame(qna_collection)\n",
    "df.to_parquet('generated_questions_embedded.parquet')"
   ]
  },
  {
   "cell_type": "code",
   "execution_count": 58,
   "id": "44ac8e9c-4968-4f29-a7e2-32509721528c",
   "metadata": {},
   "outputs": [],
   "source": [
    "ground_truth_docs = pd.read_parquet('generated_questions_embedded.parquet').to_dict(orient='records')"
   ]
  },
  {
   "cell_type": "code",
   "execution_count": 77,
   "id": "20d14b37-bff6-4bae-b622-fa76290f550a",
   "metadata": {},
   "outputs": [],
   "source": [
    "def hit_rate(relevance_total):\n",
    "    cnt = 0\n",
    "\n",
    "    for line in relevance_total:\n",
    "        if True in line:\n",
    "            cnt = cnt + 1\n",
    "\n",
    "    return cnt / len(relevance_total)\n",
    "\n",
    "def mrr(relevance_total):\n",
    "    total_score = 0.0\n",
    "\n",
    "    for line in relevance_total:\n",
    "        for rank in range(len(line)):\n",
    "            if line[rank] == True:\n",
    "                total_score = total_score + 1 / (rank + 1)\n",
    "\n",
    "    return total_score / len(relevance_total)"
   ]
  },
  {
   "cell_type": "code",
   "execution_count": 78,
   "id": "fafe5b1c-a50b-4634-9af7-5f12a2611bc1",
   "metadata": {},
   "outputs": [],
   "source": [
    "#  calculate matrix results for vector search\n",
    "\n",
    "relevance_total_vector =[]\n",
    "\n",
    "for gr in ground_truth_docs:\n",
    "    q = gr['question']\n",
    "    vector = gr['embdding']\n",
    "    id_correct = gr['doc_id']\n",
    "    # print(id_correct,q)\n",
    "    \n",
    "    index_name = \"idx_ifab_docs\"\n",
    "    \n",
    "    query = {\n",
    "        \"field\": \"embedding\",\n",
    "        \"query_vector\": vector,\n",
    "        \"k\": 5,\n",
    "        \"num_candidates\": 10000, \n",
    "    }\n",
    "    \n",
    "    res = es.search(index=index_name, knn=query, source=[\"id\", \"text\"])\n",
    "    \n",
    "    relevance = []\n",
    "    \n",
    "    for r in res[\"hits\"][\"hits\"]:    \n",
    "        relevance.append(r['_source']['id'] == id_correct)\n",
    "    \n",
    "    relevance_total_vector.append(relevance)\n",
    "    "
   ]
  },
  {
   "cell_type": "code",
   "execution_count": 89,
   "id": "b2ad2429-1189-4964-9e1a-3a1da32a2cdf",
   "metadata": {},
   "outputs": [],
   "source": [
    "\n",
    "#  calculate matrix results for text search\n",
    "relevance_total_text =[]\n",
    "\n",
    "for gr in ground_truth_docs:\n",
    "    q = gr['question']\n",
    "    vector = gr['embdding']\n",
    "    id_correct = gr['doc_id']\n",
    "    # print(id_correct,q)\n",
    "    \n",
    "    index_name = \"idx_ifab_docs\"\n",
    "    \n",
    "    # query = {\n",
    "    #     \"field\": \"embedding\",\n",
    "    #     \"query_vector\": vector,\n",
    "    #     \"k\": 5,\n",
    "    #     \"num_candidates\": 10000, \n",
    "    # }\n",
    "\n",
    "    search_query = {\n",
    "        \"size\": 5,\n",
    "        \"query\": {\n",
    "            \"bool\": {\n",
    "                \"must\": {\n",
    "                    \"multi_match\": {\n",
    "                        \"query\": q,                        \n",
    "                        \"fields\": [\"text\"],\n",
    "                        \"type\": \"best_fields\"\n",
    "                    }\n",
    "                }                \n",
    "            }\n",
    "        }\n",
    "    }\n",
    "\n",
    "\n",
    "\n",
    "    response = es.search(index=index_name, body=search_query)\n",
    "    \n",
    "    # res = es.search(index=index_name, knn=query, source=[\"id\", \"text\"])\n",
    "    \n",
    "    relevance = []\n",
    "    \n",
    "    for r in res[\"hits\"][\"hits\"]:    \n",
    "        relevance.append(r['_source']['id'] == id_correct)\n",
    "    \n",
    "    relevance_total_text.append(relevance)\n",
    "    "
   ]
  },
  {
   "cell_type": "code",
   "execution_count": 87,
   "id": "011cb3dc-7516-474f-9ec5-7a9159aa2ba9",
   "metadata": {},
   "outputs": [
    {
     "name": "stdout",
     "output_type": "stream",
     "text": [
      "Vector-search hit-rate:0.810394060536836\n",
      "Vector-search MRR:0.653131543879688\n"
     ]
    }
   ],
   "source": [
    "print(f'Vector-search hit-rate:{hit_rate(relevance_total_vector)}')\n",
    "print(f'Vector-search MRR:{mrr(relevance_total_vector)}')"
   ]
  },
  {
   "cell_type": "code",
   "execution_count": 88,
   "id": "12b81adc-d524-49df-ac4e-89c838689d33",
   "metadata": {},
   "outputs": [
    {
     "name": "stdout",
     "output_type": "stream",
     "text": [
      "Vector-search hit-rate:0.014277555682467162\n",
      "Vector-search MRR:0.0065200837616600045\n"
     ]
    }
   ],
   "source": [
    "print(f'Text-search hit-rate:{hit_rate(relevance_total_text)}')\n",
    "print(f'Text-search MRR:{mrr(relevance_total_text)}')"
   ]
  }
 ],
 "metadata": {
  "kernelspec": {
   "display_name": "Python 3 (ipykernel)",
   "language": "python",
   "name": "python3"
  },
  "language_info": {
   "codemirror_mode": {
    "name": "ipython",
    "version": 3
   },
   "file_extension": ".py",
   "mimetype": "text/x-python",
   "name": "python",
   "nbconvert_exporter": "python",
   "pygments_lexer": "ipython3",
   "version": "3.12.3"
  }
 },
 "nbformat": 4,
 "nbformat_minor": 5
}
